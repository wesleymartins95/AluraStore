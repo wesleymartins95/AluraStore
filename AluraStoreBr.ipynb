{
  "nbformat": 4,
  "nbformat_minor": 0,
  "metadata": {
    "colab": {
      "provenance": [],
      "include_colab_link": true
    },
    "kernelspec": {
      "name": "python3",
      "display_name": "Python 3"
    },
    "language_info": {
      "name": "python"
    }
  },
  "cells": [
    {
      "cell_type": "markdown",
      "metadata": {
        "id": "view-in-github",
        "colab_type": "text"
      },
      "source": [
        "<a href=\"https://colab.research.google.com/github/wesleymartins95/AluraStore/blob/main/AluraStoreBr.ipynb\" target=\"_parent\"><img src=\"https://colab.research.google.com/assets/colab-badge.svg\" alt=\"Open In Colab\"/></a>"
      ]
    },
    {
      "cell_type": "markdown",
      "source": [
        "### Importação dos dados\n",
        "\n"
      ],
      "metadata": {
        "id": "RhEdWd9YUR6H"
      }
    },
    {
      "cell_type": "code",
      "execution_count": 1,
      "metadata": {
        "colab": {
          "base_uri": "https://localhost:8080/",
          "height": 293
        },
        "id": "T3EvaeQ_INIL",
        "outputId": "38b22d04-10dc-484f-931e-178bc0e3ffc4"
      },
      "outputs": [
        {
          "output_type": "execute_result",
          "data": {
            "text/plain": [
              "                 Produto Categoria do Produto    Preço      Frete  \\\n",
              "0     Assistente virtual          eletronicos   219.08   9.249790   \n",
              "1         Mesa de jantar               moveis   256.35  11.234305   \n",
              "2      Jogo de tabuleiro           brinquedos   279.51  21.262681   \n",
              "3            Micro-ondas     eletrodomesticos  1009.99  54.667344   \n",
              "4  Cadeira de escritório               moveis   446.99  26.964689   \n",
              "\n",
              "  Data da Compra        Vendedor Local da compra  Avaliação da compra  \\\n",
              "0     16/01/2021     Pedro Gomes              SP                    4   \n",
              "1     18/05/2022  Beatriz Moraes              RJ                    1   \n",
              "2     15/03/2021      João Souza              DF                    1   \n",
              "3     03/05/2022      João Souza              RS                    4   \n",
              "4     07/11/2020   Larissa Alves              MG                    5   \n",
              "\n",
              "  Tipo de pagamento  Quantidade de parcelas    lat    lon  \n",
              "0    cartao_credito                       8 -22.19 -48.79  \n",
              "1    cartao_credito                       4 -22.25 -42.66  \n",
              "2    cartao_credito                       1 -15.83 -47.86  \n",
              "3            boleto                       1 -30.17 -53.50  \n",
              "4            boleto                       1 -18.10 -44.38  "
            ],
            "text/html": [
              "\n",
              "  <div id=\"df-85f05393-17fc-4552-8626-6437defc41ee\" class=\"colab-df-container\">\n",
              "    <div>\n",
              "<style scoped>\n",
              "    .dataframe tbody tr th:only-of-type {\n",
              "        vertical-align: middle;\n",
              "    }\n",
              "\n",
              "    .dataframe tbody tr th {\n",
              "        vertical-align: top;\n",
              "    }\n",
              "\n",
              "    .dataframe thead th {\n",
              "        text-align: right;\n",
              "    }\n",
              "</style>\n",
              "<table border=\"1\" class=\"dataframe\">\n",
              "  <thead>\n",
              "    <tr style=\"text-align: right;\">\n",
              "      <th></th>\n",
              "      <th>Produto</th>\n",
              "      <th>Categoria do Produto</th>\n",
              "      <th>Preço</th>\n",
              "      <th>Frete</th>\n",
              "      <th>Data da Compra</th>\n",
              "      <th>Vendedor</th>\n",
              "      <th>Local da compra</th>\n",
              "      <th>Avaliação da compra</th>\n",
              "      <th>Tipo de pagamento</th>\n",
              "      <th>Quantidade de parcelas</th>\n",
              "      <th>lat</th>\n",
              "      <th>lon</th>\n",
              "    </tr>\n",
              "  </thead>\n",
              "  <tbody>\n",
              "    <tr>\n",
              "      <th>0</th>\n",
              "      <td>Assistente virtual</td>\n",
              "      <td>eletronicos</td>\n",
              "      <td>219.08</td>\n",
              "      <td>9.249790</td>\n",
              "      <td>16/01/2021</td>\n",
              "      <td>Pedro Gomes</td>\n",
              "      <td>SP</td>\n",
              "      <td>4</td>\n",
              "      <td>cartao_credito</td>\n",
              "      <td>8</td>\n",
              "      <td>-22.19</td>\n",
              "      <td>-48.79</td>\n",
              "    </tr>\n",
              "    <tr>\n",
              "      <th>1</th>\n",
              "      <td>Mesa de jantar</td>\n",
              "      <td>moveis</td>\n",
              "      <td>256.35</td>\n",
              "      <td>11.234305</td>\n",
              "      <td>18/05/2022</td>\n",
              "      <td>Beatriz Moraes</td>\n",
              "      <td>RJ</td>\n",
              "      <td>1</td>\n",
              "      <td>cartao_credito</td>\n",
              "      <td>4</td>\n",
              "      <td>-22.25</td>\n",
              "      <td>-42.66</td>\n",
              "    </tr>\n",
              "    <tr>\n",
              "      <th>2</th>\n",
              "      <td>Jogo de tabuleiro</td>\n",
              "      <td>brinquedos</td>\n",
              "      <td>279.51</td>\n",
              "      <td>21.262681</td>\n",
              "      <td>15/03/2021</td>\n",
              "      <td>João Souza</td>\n",
              "      <td>DF</td>\n",
              "      <td>1</td>\n",
              "      <td>cartao_credito</td>\n",
              "      <td>1</td>\n",
              "      <td>-15.83</td>\n",
              "      <td>-47.86</td>\n",
              "    </tr>\n",
              "    <tr>\n",
              "      <th>3</th>\n",
              "      <td>Micro-ondas</td>\n",
              "      <td>eletrodomesticos</td>\n",
              "      <td>1009.99</td>\n",
              "      <td>54.667344</td>\n",
              "      <td>03/05/2022</td>\n",
              "      <td>João Souza</td>\n",
              "      <td>RS</td>\n",
              "      <td>4</td>\n",
              "      <td>boleto</td>\n",
              "      <td>1</td>\n",
              "      <td>-30.17</td>\n",
              "      <td>-53.50</td>\n",
              "    </tr>\n",
              "    <tr>\n",
              "      <th>4</th>\n",
              "      <td>Cadeira de escritório</td>\n",
              "      <td>moveis</td>\n",
              "      <td>446.99</td>\n",
              "      <td>26.964689</td>\n",
              "      <td>07/11/2020</td>\n",
              "      <td>Larissa Alves</td>\n",
              "      <td>MG</td>\n",
              "      <td>5</td>\n",
              "      <td>boleto</td>\n",
              "      <td>1</td>\n",
              "      <td>-18.10</td>\n",
              "      <td>-44.38</td>\n",
              "    </tr>\n",
              "  </tbody>\n",
              "</table>\n",
              "</div>\n",
              "    <div class=\"colab-df-buttons\">\n",
              "\n",
              "  <div class=\"colab-df-container\">\n",
              "    <button class=\"colab-df-convert\" onclick=\"convertToInteractive('df-85f05393-17fc-4552-8626-6437defc41ee')\"\n",
              "            title=\"Convert this dataframe to an interactive table.\"\n",
              "            style=\"display:none;\">\n",
              "\n",
              "  <svg xmlns=\"http://www.w3.org/2000/svg\" height=\"24px\" viewBox=\"0 -960 960 960\">\n",
              "    <path d=\"M120-120v-720h720v720H120Zm60-500h600v-160H180v160Zm220 220h160v-160H400v160Zm0 220h160v-160H400v160ZM180-400h160v-160H180v160Zm440 0h160v-160H620v160ZM180-180h160v-160H180v160Zm440 0h160v-160H620v160Z\"/>\n",
              "  </svg>\n",
              "    </button>\n",
              "\n",
              "  <style>\n",
              "    .colab-df-container {\n",
              "      display:flex;\n",
              "      gap: 12px;\n",
              "    }\n",
              "\n",
              "    .colab-df-convert {\n",
              "      background-color: #E8F0FE;\n",
              "      border: none;\n",
              "      border-radius: 50%;\n",
              "      cursor: pointer;\n",
              "      display: none;\n",
              "      fill: #1967D2;\n",
              "      height: 32px;\n",
              "      padding: 0 0 0 0;\n",
              "      width: 32px;\n",
              "    }\n",
              "\n",
              "    .colab-df-convert:hover {\n",
              "      background-color: #E2EBFA;\n",
              "      box-shadow: 0px 1px 2px rgba(60, 64, 67, 0.3), 0px 1px 3px 1px rgba(60, 64, 67, 0.15);\n",
              "      fill: #174EA6;\n",
              "    }\n",
              "\n",
              "    .colab-df-buttons div {\n",
              "      margin-bottom: 4px;\n",
              "    }\n",
              "\n",
              "    [theme=dark] .colab-df-convert {\n",
              "      background-color: #3B4455;\n",
              "      fill: #D2E3FC;\n",
              "    }\n",
              "\n",
              "    [theme=dark] .colab-df-convert:hover {\n",
              "      background-color: #434B5C;\n",
              "      box-shadow: 0px 1px 3px 1px rgba(0, 0, 0, 0.15);\n",
              "      filter: drop-shadow(0px 1px 2px rgba(0, 0, 0, 0.3));\n",
              "      fill: #FFFFFF;\n",
              "    }\n",
              "  </style>\n",
              "\n",
              "    <script>\n",
              "      const buttonEl =\n",
              "        document.querySelector('#df-85f05393-17fc-4552-8626-6437defc41ee button.colab-df-convert');\n",
              "      buttonEl.style.display =\n",
              "        google.colab.kernel.accessAllowed ? 'block' : 'none';\n",
              "\n",
              "      async function convertToInteractive(key) {\n",
              "        const element = document.querySelector('#df-85f05393-17fc-4552-8626-6437defc41ee');\n",
              "        const dataTable =\n",
              "          await google.colab.kernel.invokeFunction('convertToInteractive',\n",
              "                                                    [key], {});\n",
              "        if (!dataTable) return;\n",
              "\n",
              "        const docLinkHtml = 'Like what you see? Visit the ' +\n",
              "          '<a target=\"_blank\" href=https://colab.research.google.com/notebooks/data_table.ipynb>data table notebook</a>'\n",
              "          + ' to learn more about interactive tables.';\n",
              "        element.innerHTML = '';\n",
              "        dataTable['output_type'] = 'display_data';\n",
              "        await google.colab.output.renderOutput(dataTable, element);\n",
              "        const docLink = document.createElement('div');\n",
              "        docLink.innerHTML = docLinkHtml;\n",
              "        element.appendChild(docLink);\n",
              "      }\n",
              "    </script>\n",
              "  </div>\n",
              "\n",
              "\n",
              "<div id=\"df-bd8698b6-a264-4c9e-9f1e-c47f6bc47bea\">\n",
              "  <button class=\"colab-df-quickchart\" onclick=\"quickchart('df-bd8698b6-a264-4c9e-9f1e-c47f6bc47bea')\"\n",
              "            title=\"Suggest charts\"\n",
              "            style=\"display:none;\">\n",
              "\n",
              "<svg xmlns=\"http://www.w3.org/2000/svg\" height=\"24px\"viewBox=\"0 0 24 24\"\n",
              "     width=\"24px\">\n",
              "    <g>\n",
              "        <path d=\"M19 3H5c-1.1 0-2 .9-2 2v14c0 1.1.9 2 2 2h14c1.1 0 2-.9 2-2V5c0-1.1-.9-2-2-2zM9 17H7v-7h2v7zm4 0h-2V7h2v10zm4 0h-2v-4h2v4z\"/>\n",
              "    </g>\n",
              "</svg>\n",
              "  </button>\n",
              "\n",
              "<style>\n",
              "  .colab-df-quickchart {\n",
              "      --bg-color: #E8F0FE;\n",
              "      --fill-color: #1967D2;\n",
              "      --hover-bg-color: #E2EBFA;\n",
              "      --hover-fill-color: #174EA6;\n",
              "      --disabled-fill-color: #AAA;\n",
              "      --disabled-bg-color: #DDD;\n",
              "  }\n",
              "\n",
              "  [theme=dark] .colab-df-quickchart {\n",
              "      --bg-color: #3B4455;\n",
              "      --fill-color: #D2E3FC;\n",
              "      --hover-bg-color: #434B5C;\n",
              "      --hover-fill-color: #FFFFFF;\n",
              "      --disabled-bg-color: #3B4455;\n",
              "      --disabled-fill-color: #666;\n",
              "  }\n",
              "\n",
              "  .colab-df-quickchart {\n",
              "    background-color: var(--bg-color);\n",
              "    border: none;\n",
              "    border-radius: 50%;\n",
              "    cursor: pointer;\n",
              "    display: none;\n",
              "    fill: var(--fill-color);\n",
              "    height: 32px;\n",
              "    padding: 0;\n",
              "    width: 32px;\n",
              "  }\n",
              "\n",
              "  .colab-df-quickchart:hover {\n",
              "    background-color: var(--hover-bg-color);\n",
              "    box-shadow: 0 1px 2px rgba(60, 64, 67, 0.3), 0 1px 3px 1px rgba(60, 64, 67, 0.15);\n",
              "    fill: var(--button-hover-fill-color);\n",
              "  }\n",
              "\n",
              "  .colab-df-quickchart-complete:disabled,\n",
              "  .colab-df-quickchart-complete:disabled:hover {\n",
              "    background-color: var(--disabled-bg-color);\n",
              "    fill: var(--disabled-fill-color);\n",
              "    box-shadow: none;\n",
              "  }\n",
              "\n",
              "  .colab-df-spinner {\n",
              "    border: 2px solid var(--fill-color);\n",
              "    border-color: transparent;\n",
              "    border-bottom-color: var(--fill-color);\n",
              "    animation:\n",
              "      spin 1s steps(1) infinite;\n",
              "  }\n",
              "\n",
              "  @keyframes spin {\n",
              "    0% {\n",
              "      border-color: transparent;\n",
              "      border-bottom-color: var(--fill-color);\n",
              "      border-left-color: var(--fill-color);\n",
              "    }\n",
              "    20% {\n",
              "      border-color: transparent;\n",
              "      border-left-color: var(--fill-color);\n",
              "      border-top-color: var(--fill-color);\n",
              "    }\n",
              "    30% {\n",
              "      border-color: transparent;\n",
              "      border-left-color: var(--fill-color);\n",
              "      border-top-color: var(--fill-color);\n",
              "      border-right-color: var(--fill-color);\n",
              "    }\n",
              "    40% {\n",
              "      border-color: transparent;\n",
              "      border-right-color: var(--fill-color);\n",
              "      border-top-color: var(--fill-color);\n",
              "    }\n",
              "    60% {\n",
              "      border-color: transparent;\n",
              "      border-right-color: var(--fill-color);\n",
              "    }\n",
              "    80% {\n",
              "      border-color: transparent;\n",
              "      border-right-color: var(--fill-color);\n",
              "      border-bottom-color: var(--fill-color);\n",
              "    }\n",
              "    90% {\n",
              "      border-color: transparent;\n",
              "      border-bottom-color: var(--fill-color);\n",
              "    }\n",
              "  }\n",
              "</style>\n",
              "\n",
              "  <script>\n",
              "    async function quickchart(key) {\n",
              "      const quickchartButtonEl =\n",
              "        document.querySelector('#' + key + ' button');\n",
              "      quickchartButtonEl.disabled = true;  // To prevent multiple clicks.\n",
              "      quickchartButtonEl.classList.add('colab-df-spinner');\n",
              "      try {\n",
              "        const charts = await google.colab.kernel.invokeFunction(\n",
              "            'suggestCharts', [key], {});\n",
              "      } catch (error) {\n",
              "        console.error('Error during call to suggestCharts:', error);\n",
              "      }\n",
              "      quickchartButtonEl.classList.remove('colab-df-spinner');\n",
              "      quickchartButtonEl.classList.add('colab-df-quickchart-complete');\n",
              "    }\n",
              "    (() => {\n",
              "      let quickchartButtonEl =\n",
              "        document.querySelector('#df-bd8698b6-a264-4c9e-9f1e-c47f6bc47bea button');\n",
              "      quickchartButtonEl.style.display =\n",
              "        google.colab.kernel.accessAllowed ? 'block' : 'none';\n",
              "    })();\n",
              "  </script>\n",
              "</div>\n",
              "\n",
              "    </div>\n",
              "  </div>\n"
            ],
            "application/vnd.google.colaboratory.intrinsic+json": {
              "type": "dataframe",
              "variable_name": "loja",
              "summary": "{\n  \"name\": \"loja\",\n  \"rows\": 2359,\n  \"fields\": [\n    {\n      \"column\": \"Produto\",\n      \"properties\": {\n        \"dtype\": \"category\",\n        \"num_unique_values\": 51,\n        \"samples\": [\n          \"Viol\\u00e3o\",\n          \"Bola de basquete\",\n          \"Smartwatch\"\n        ],\n        \"semantic_type\": \"\",\n        \"description\": \"\"\n      }\n    },\n    {\n      \"column\": \"Categoria do Produto\",\n      \"properties\": {\n        \"dtype\": \"category\",\n        \"num_unique_values\": 8,\n        \"samples\": [\n          \"moveis\",\n          \"esporte e lazer\",\n          \"eletronicos\"\n        ],\n        \"semantic_type\": \"\",\n        \"description\": \"\"\n      }\n    },\n    {\n      \"column\": \"Pre\\u00e7o\",\n      \"properties\": {\n        \"dtype\": \"number\",\n        \"std\": 819.5827782539145,\n        \"min\": 10.07,\n        \"max\": 3969.38,\n        \"num_unique_values\": 2315,\n        \"samples\": [\n          446.11,\n          107.31,\n          65.86\n        ],\n        \"semantic_type\": \"\",\n        \"description\": \"\"\n      }\n    },\n    {\n      \"column\": \"Frete\",\n      \"properties\": {\n        \"dtype\": \"number\",\n        \"std\": 43.814183327408166,\n        \"min\": 0.0,\n        \"max\": 214.3770604781,\n        \"num_unique_values\": 2149,\n        \"samples\": [\n          83.815279607,\n          16.069664669,\n          14.0344876928\n        ],\n        \"semantic_type\": \"\",\n        \"description\": \"\"\n      }\n    },\n    {\n      \"column\": \"Data da Compra\",\n      \"properties\": {\n        \"dtype\": \"object\",\n        \"num_unique_values\": 1018,\n        \"samples\": [\n          \"15/09/2022\",\n          \"03/06/2020\",\n          \"06/11/2021\"\n        ],\n        \"semantic_type\": \"\",\n        \"description\": \"\"\n      }\n    },\n    {\n      \"column\": \"Vendedor\",\n      \"properties\": {\n        \"dtype\": \"category\",\n        \"num_unique_values\": 14,\n        \"samples\": [\n          \"Juliana Costa\",\n          \"Mariana Ferreira\",\n          \"Pedro Gomes\"\n        ],\n        \"semantic_type\": \"\",\n        \"description\": \"\"\n      }\n    },\n    {\n      \"column\": \"Local da compra\",\n      \"properties\": {\n        \"dtype\": \"category\",\n        \"num_unique_values\": 26,\n        \"samples\": [\n          \"TO\",\n          \"RN\",\n          \"SP\"\n        ],\n        \"semantic_type\": \"\",\n        \"description\": \"\"\n      }\n    },\n    {\n      \"column\": \"Avalia\\u00e7\\u00e3o da compra\",\n      \"properties\": {\n        \"dtype\": \"number\",\n        \"std\": 1,\n        \"min\": 1,\n        \"max\": 5,\n        \"num_unique_values\": 5,\n        \"samples\": [\n          1,\n          2,\n          5\n        ],\n        \"semantic_type\": \"\",\n        \"description\": \"\"\n      }\n    },\n    {\n      \"column\": \"Tipo de pagamento\",\n      \"properties\": {\n        \"dtype\": \"category\",\n        \"num_unique_values\": 4,\n        \"samples\": [\n          \"boleto\",\n          \"cartao_debito\",\n          \"cartao_credito\"\n        ],\n        \"semantic_type\": \"\",\n        \"description\": \"\"\n      }\n    },\n    {\n      \"column\": \"Quantidade de parcelas\",\n      \"properties\": {\n        \"dtype\": \"number\",\n        \"std\": 2,\n        \"min\": 1,\n        \"max\": 24,\n        \"num_unique_values\": 15,\n        \"samples\": [\n          7,\n          14,\n          8\n        ],\n        \"semantic_type\": \"\",\n        \"description\": \"\"\n      }\n    },\n    {\n      \"column\": \"lat\",\n      \"properties\": {\n        \"dtype\": \"number\",\n        \"std\": 5.372399916530833,\n        \"min\": -30.17,\n        \"max\": 1.41,\n        \"num_unique_values\": 26,\n        \"samples\": [\n          -9.46,\n          -5.81,\n          -22.19\n        ],\n        \"semantic_type\": \"\",\n        \"description\": \"\"\n      }\n    },\n    {\n      \"column\": \"lon\",\n      \"properties\": {\n        \"dtype\": \"number\",\n        \"std\": 4.183180020544179,\n        \"min\": -70.55,\n        \"max\": -36.59,\n        \"num_unique_values\": 26,\n        \"samples\": [\n          -48.26,\n          -36.59,\n          -48.79\n        ],\n        \"semantic_type\": \"\",\n        \"description\": \"\"\n      }\n    }\n  ]\n}"
            }
          },
          "metadata": {},
          "execution_count": 1
        }
      ],
      "source": [
        "import pandas as pd\n",
        "\n",
        "url = \"https://raw.githubusercontent.com/alura-es-cursos/challenge1-data-science/refs/heads/main/base-de-dados-challenge-1/loja_1.csv\"\n",
        "url2 = \"https://raw.githubusercontent.com/alura-es-cursos/challenge1-data-science/refs/heads/main/base-de-dados-challenge-1/loja_2.csv\"\n",
        "url3 = \"https://raw.githubusercontent.com/alura-es-cursos/challenge1-data-science/refs/heads/main/base-de-dados-challenge-1/loja_3.csv\"\n",
        "url4 = \"https://raw.githubusercontent.com/alura-es-cursos/challenge1-data-science/refs/heads/main/base-de-dados-challenge-1/loja_4.csv\"\n",
        "\n",
        "loja = pd.read_csv(url)\n",
        "loja2 = pd.read_csv(url2)\n",
        "loja3 = pd.read_csv(url3)\n",
        "loja4 = pd.read_csv(url4)\n",
        "\n",
        "loja.head()"
      ]
    },
    {
      "cell_type": "markdown",
      "source": [
        "#1. Análise do faturamento\n"
      ],
      "metadata": {
        "id": "X62IW3KFUIYm"
      }
    },
    {
      "cell_type": "code",
      "source": [
        "faturameto_total_lojas = {}\n",
        "faturameto_total_lojas[\"loja1\",\"loja2\",\"loja3\",\"loja4\"]=  [loja['Preço'].sum(),loja2['Preço'].sum(),loja3['Preço'].sum(),loja4['Preço'].sum()]\n",
        "faturameto_total_lojas"
      ],
      "metadata": {
        "id": "xykobSftV64I",
        "colab": {
          "base_uri": "https://localhost:8080/",
          "height": 0
        },
        "outputId": "8ceaa0ac-8b48-4b78-e72e-3aeca294c5af"
      },
      "execution_count": 2,
      "outputs": [
        {
          "output_type": "execute_result",
          "data": {
            "text/plain": [
              "{('loja1', 'loja2', 'loja3', 'loja4'): [np.float64(1534509.12),\n",
              "  np.float64(1488459.06),\n",
              "  np.float64(1464025.03),\n",
              "  np.float64(1384497.58)]}"
            ]
          },
          "metadata": {},
          "execution_count": 2
        }
      ]
    },
    {
      "cell_type": "code",
      "source": [
        "import numpy as np\n",
        "\n",
        "# Criando um dicionário com os dados\n",
        "dados = {\n",
        "    \"loja1\": [np.float64(1534509.12)],\n",
        "    \"loja2\": [np.float64(1488459.06)],\n",
        "    \"loja3\": [np.float64(1464025.03)],\n",
        "    \"loja4\": [np.float64(1384497.58)]\n",
        "}\n",
        "\n",
        "# Convertendo para um DataFrame\n",
        "df = pd.DataFrame(dados)\n",
        "\n",
        "# Exibindo a tabela\n",
        "print(df)\n"
      ],
      "metadata": {
        "id": "KDyr8E71V3m-",
        "colab": {
          "base_uri": "https://localhost:8080/",
          "height": 0
        },
        "outputId": "2ea35897-9f4f-4811-f598-e94880ef67c2"
      },
      "execution_count": 3,
      "outputs": [
        {
          "output_type": "stream",
          "name": "stdout",
          "text": [
            "        loja1       loja2       loja3       loja4\n",
            "0  1534509.12  1488459.06  1464025.03  1384497.58\n"
          ]
        }
      ]
    },
    {
      "cell_type": "code",
      "source": [
        "import matplotlib.pyplot as plt\n",
        "df.plot.bar()\n",
        "plt.show()"
      ],
      "metadata": {
        "colab": {
          "base_uri": "https://localhost:8080/",
          "height": 440
        },
        "id": "In--JzDU32KP",
        "outputId": "54ba1128-d482-4f86-e0ac-38a9f7ca0e3b"
      },
      "execution_count": 4,
      "outputs": [
        {
          "output_type": "display_data",
          "data": {
            "text/plain": [
              "<Figure size 640x480 with 1 Axes>"
            ],
            "image/png": "[encoded data removed]"
          },
          "metadata": {}
        }
      ]
    },
    {
      "cell_type": "markdown",
      "source": [
        "A loja que possui mais faturamento é a Loja1 e a de menor faturamento é a loja4."
      ],
      "metadata": {
        "id": "TPe7XXdY8_zJ"
      }
    },
    {
      "cell_type": "markdown",
      "source": [
        "# 2. Vendas por Categoria\n"
      ],
      "metadata": {
        "id": "2V_vcAPzWZmR"
      }
    },
    {
      "cell_type": "code",
      "source": [
        "Lojas_venda_categoria = {}\n",
        "# somando e agrupando por categoria de cada loja.\n",
        "Lojas_venda_categoria[\"loja1\"] = loja.groupby('Categoria do Produto')['Preço'].sum()\n",
        "Lojas_venda_categoria[\"loja2\"] = loja2.groupby('Categoria do Produto')['Preço'].sum()\n",
        "Lojas_venda_categoria[\"loja3\"] = loja3.groupby('Categoria do Produto')['Preço'].sum()\n",
        "Lojas_venda_categoria[\"loja4\"] = loja4.groupby('Categoria do Produto')['Preço'].sum()\n",
        "df_venda_categoria = pd.DataFrame(Lojas_venda_categoria)\n",
        "for nome_loja in df_venda_categoria.columns:\n",
        "    # Ordenando as categorias por vendas para cada loja\n",
        "    top_3_categorias = df_venda_categoria.sort_values(by=nome_loja, ascending=False).head(3)\n",
        "\n",
        "    # Exibindo os resultados para cada loja\n",
        "    print(f\"Top 3 categorias mais vendidas na {nome_loja}:\\n\")\n",
        "    print(top_3_categorias[[nome_loja]])  # Mostrando apenas a coluna da loja atual\n",
        "    print(\"\\n\")"
      ],
      "metadata": {
        "id": "A34YupIuYhfF",
        "colab": {
          "base_uri": "https://localhost:8080/",
          "height": 0
        },
        "outputId": "11bd63eb-8e8d-4510-8808-981edaf67fcf"
      },
      "execution_count": 21,
      "outputs": [
        {
          "output_type": "stream",
          "name": "stdout",
          "text": [
            "Top 3 categorias mais vendidas na loja1:\n",
            "\n",
            "                          loja1\n",
            "Categoria do Produto           \n",
            "eletronicos           572659.23\n",
            "eletrodomesticos      484913.36\n",
            "moveis                250178.11\n",
            "\n",
            "\n",
            "Top 3 categorias mais vendidas na loja2:\n",
            "\n",
            "                          loja2\n",
            "Categoria do Produto           \n",
            "eletronicos           547773.71\n",
            "eletrodomesticos      464758.13\n",
            "moveis                235234.68\n",
            "\n",
            "\n",
            "Top 3 categorias mais vendidas na loja3:\n",
            "\n",
            "                          loja3\n",
            "Categoria do Produto           \n",
            "eletronicos           547699.92\n",
            "eletrodomesticos      438984.89\n",
            "moveis                268095.56\n",
            "\n",
            "\n",
            "Top 3 categorias mais vendidas na loja4:\n",
            "\n",
            "                          loja4\n",
            "Categoria do Produto           \n",
            "eletronicos           545966.86\n",
            "eletrodomesticos      377680.65\n",
            "moveis                256705.65\n",
            "\n",
            "\n"
          ]
        }
      ]
    },
    {
      "cell_type": "code",
      "source": [
        "import matplotlib.pyplot as plt\n",
        "\n",
        "for nome_loja in df_venda_categoria.columns:\n",
        "    # Ordenando as categorias por vendas para cada loja\n",
        "    top_3_categorias = df_venda_categoria.sort_values(by=nome_loja, ascending=False).head(3)\n",
        "\n",
        "    # Criando o gráfico de pizza para a loja atual\n",
        "    plt.figure(figsize=(2, 2))  # Define o tamanho da figura\n",
        "    plt.pie(top_3_categorias[nome_loja], labels=top_3_categorias.index, autopct='%1.1f%%', startangle=90)\n",
        "    plt.title(f\"Top 3 Categorias Mais Vendidas na {nome_loja}\")\n",
        "    plt.show()"
      ],
      "metadata": {
        "colab": {
          "base_uri": "https://localhost:8080/",
          "height": 801
        },
        "id": "4ghShVdeQCM7",
        "outputId": "45e8bc86-e8c9-4ebe-c9df-17bfaa106ba8"
      },
      "execution_count": 35,
      "outputs": [
        {
          "output_type": "display_data",
          "data": {
            "text/plain": [
              "<Figure size 200x200 with 1 Axes>"
            ],
            "image/png": "[encoded data removed]"
          },
          "metadata": {}
        },
        {
          "output_type": "display_data",
          "data": {
            "text/plain": [
              "<Figure size 200x200 with 1 Axes>"
            ],
            "image/png": "[encoded data removed]"
          },
          "metadata": {}
        },
        {
          "output_type": "display_data",
          "data": {
            "text/plain": [
              "<Figure size 200x200 with 1 Axes>"
            ],
            "image/png": "[encoded data removed]"
          },
          "metadata": {}
        },
        {
          "output_type": "display_data",
          "data": {
            "text/plain": [
              "<Figure size 200x200 with 1 Axes>"
            ],
            "image/png": "[encoded data removed]"
          },
          "metadata": {}
        }
      ]
    },
    {
      "cell_type": "markdown",
      "source": [
        "Podemos ver que em todas as lojas a categoria eletronicos é a que possui mais vendas."
      ],
      "metadata": {
        "id": "Ep7ngYbkDszD"
      }
    },
    {
      "cell_type": "markdown",
      "source": [
        "# 3. Média de Avaliação das Lojas"
      ],
      "metadata": {
        "id": "Rq6tU_xSY3jk"
      }
    },
    {
      "cell_type": "code",
      "source": [
        "# Criando dicionário com médias de avaliação\n",
        "Lojas_media_venda = {\n",
        "    \"loja1\": loja['Avaliação da compra'].mean(),\n",
        "    \"loja2\": loja2['Avaliação da compra'].mean(),\n",
        "    \"loja3\": loja3['Avaliação da compra'].mean(),\n",
        "    \"loja4\": loja4['Avaliação da compra'].mean()\n",
        "}\n",
        "\n",
        "# Convertendo para DataFrame\n",
        "df_media_venda = pd.DataFrame(Lojas_media_venda.items(), columns=[\"Loja\", \"Média Avaliação\"])\n",
        "\n",
        "# Ordenando do maior para o menor\n",
        "df_media_venda = df_media_venda.sort_values(by=\"Média Avaliação\", ascending=False)\n",
        "\n",
        "# Exibindo a tabela\n",
        "print(df_media_venda)\n",
        "\n"
      ],
      "metadata": {
        "id": "bh3jjjJwY5MU",
        "colab": {
          "base_uri": "https://localhost:8080/",
          "height": 0
        },
        "outputId": "95b51e37-fc2a-4f97-b184-6eacd1728417"
      },
      "execution_count": 7,
      "outputs": [
        {
          "output_type": "stream",
          "name": "stdout",
          "text": [
            "    Loja  Média Avaliação\n",
            "2  loja3         4.048326\n",
            "1  loja2         4.037304\n",
            "3  loja4         3.995759\n",
            "0  loja1         3.976685\n"
          ]
        }
      ]
    },
    {
      "cell_type": "markdown",
      "source": [
        "A loja que possui maior média de avaliações é a 3."
      ],
      "metadata": {
        "id": "vQeEtCMTKCby"
      }
    },
    {
      "cell_type": "markdown",
      "source": [
        "# 4. Produtos Mais e Menos Vendidos"
      ],
      "metadata": {
        "id": "DmNp1KPBZCm-"
      }
    },
    {
      "cell_type": "code",
      "source": [
        "Lojas_produtos_vendas = {}\n",
        "# somando e agrupando por categoria de cada loja.\n",
        "Lojas_produtos_vendas[\"loja1\"] = loja['Produto'].value_counts()\n",
        "Lojas_produtos_vendas[\"loja2\"] = loja2['Produto'].value_counts()\n",
        "Lojas_produtos_vendas[\"loja3\"] = loja3['Produto'].value_counts()\n",
        "Lojas_produtos_vendas[\"loja4\"] = loja4['Produto'].value_counts()\n",
        "Lojas_produtos_vendas"
      ],
      "metadata": {
        "id": "qoyjqijQZHfF",
        "colab": {
          "base_uri": "https://localhost:8080/",
          "height": 0
        },
        "outputId": "832a2b26-e4a7-436b-c6c5-196d27800f88"
      },
      "execution_count": 9,
      "outputs": [
        {
          "output_type": "execute_result",
          "data": {
            "text/plain": [
              "{'loja1': Produto\n",
              " Micro-ondas                    60\n",
              " TV Led UHD 4K                  60\n",
              " Guarda roupas                  60\n",
              " Secadora de roupas             58\n",
              " Cômoda                         56\n",
              " Blocos de montar               56\n",
              " Bola de basquete               55\n",
              " Bicicleta                      54\n",
              " Copo térmico                   54\n",
              " Geladeira                      54\n",
              " Impressora                     54\n",
              " Bateria                        53\n",
              " Faqueiro                       52\n",
              " Carrinho controle remoto       52\n",
              " Modelagem preditiva            51\n",
              " Fone de ouvido                 50\n",
              " Xadrez de madeira              49\n",
              " Celular Plus X42               49\n",
              " Lava louças                    48\n",
              " Lavadora de roupas             47\n",
              " Guitarra                       47\n",
              " Violão                         46\n",
              " Sofá retrátil                  46\n",
              " Cadeira de escritório          46\n",
              " Fogão                          45\n",
              " Cama box                       44\n",
              " Kit banquetas                  44\n",
              " Smart TV                       44\n",
              " Cama king                      44\n",
              " Cubo mágico 8x8                44\n",
              " Mesa de centro                 44\n",
              " Jogo de panelas                43\n",
              " Smartwatch                     43\n",
              " Jogo de tabuleiro              43\n",
              " Bola de vôlei                  42\n",
              " Dashboards com Power BI        42\n",
              " Tablet ABXY                    42\n",
              " Poltrona                       41\n",
              " Iniciando em programação       41\n",
              " Jogo de copos                  41\n",
              " Assistente virtual             40\n",
              " Boneca bebê                    40\n",
              " Mesa de jantar                 40\n",
              " Dinossauro Rex                 40\n",
              " Corda de pular                 40\n",
              " Mochila                        39\n",
              " Ciência de dados com python    39\n",
              " Pandeiro                       36\n",
              " Panela de pressão              35\n",
              " Headset                        33\n",
              " Celular ABXY                   33\n",
              " Name: count, dtype: int64,\n",
              " 'loja2': Produto\n",
              " Iniciando em programação       65\n",
              " Micro-ondas                    62\n",
              " Bateria                        61\n",
              " Violão                         58\n",
              " Pandeiro                       58\n",
              " Secadora de roupas             57\n",
              " Celular Plus X42               55\n",
              " Blocos de montar               54\n",
              " Guarda roupas                  54\n",
              " Jogo de panelas                52\n",
              " Corda de pular                 50\n",
              " Lavadora de roupas             49\n",
              " Cadeira de escritório          49\n",
              " Geladeira                      49\n",
              " Boneca bebê                    48\n",
              " Carrinho controle remoto       47\n",
              " Guitarra                       47\n",
              " Cama box                       47\n",
              " Copo térmico                   47\n",
              " Modelagem preditiva            46\n",
              " Bola de vôlei                  46\n",
              " Jogo de copos                  46\n",
              " Lava louças                    46\n",
              " Kit banquetas                  45\n",
              " Cama king                      45\n",
              " Bicicleta                      45\n",
              " Mochila                        45\n",
              " Cubo mágico 8x8                45\n",
              " Xadrez de madeira              45\n",
              " Mesa de centro                 45\n",
              " TV Led UHD 4K                  45\n",
              " Tablet ABXY                    44\n",
              " Smartwatch                     44\n",
              " Cômoda                         44\n",
              " Panela de pressão              44\n",
              " Headset                        44\n",
              " Sofá retrátil                  44\n",
              " Dashboards com Power BI        43\n",
              " Ciência de dados com python    43\n",
              " Bola de basquete               42\n",
              " Fogão                          42\n",
              " Dinossauro Rex                 42\n",
              " Celular ABXY                   41\n",
              " Smart TV                       40\n",
              " Faqueiro                       39\n",
              " Assistente virtual             38\n",
              " Fone de ouvido                 37\n",
              " Poltrona                       35\n",
              " Mesa de jantar                 34\n",
              " Impressora                     34\n",
              " Jogo de tabuleiro              32\n",
              " Name: count, dtype: int64,\n",
              " 'loja3': Produto\n",
              " Kit banquetas                  57\n",
              " Mesa de jantar                 56\n",
              " Cama king                      56\n",
              " Jogo de panelas                55\n",
              " Cômoda                         55\n",
              " Smart TV                       54\n",
              " Fogão                          53\n",
              " Corda de pular                 53\n",
              " Modelagem preditiva            53\n",
              " Carrinho controle remoto       52\n",
              " Lava louças                    52\n",
              " Bicicleta                      52\n",
              " Jogo de tabuleiro              52\n",
              " Pandeiro                       51\n",
              " Impressora                     50\n",
              " Geladeira                      50\n",
              " Bola de basquete               50\n",
              " Guarda roupas                  49\n",
              " Bola de vôlei                  48\n",
              " Tablet ABXY                    48\n",
              " Poltrona                       47\n",
              " Violão                         47\n",
              " Panela de pressão              47\n",
              " Xadrez de madeira              47\n",
              " Ciência de dados com python    46\n",
              " Celular Plus X42               46\n",
              " Dinossauro Rex                 46\n",
              " Cadeira de escritório          46\n",
              " Smartwatch                     46\n",
              " Cama box                       46\n",
              " Iniciando em programação       46\n",
              " Secadora de roupas             45\n",
              " Sofá retrátil                  45\n",
              " Celular ABXY                   44\n",
              " Cubo mágico 8x8                44\n",
              " Fone de ouvido                 43\n",
              " TV Led UHD 4K                  42\n",
              " Mesa de centro                 42\n",
              " Lavadora de roupas             42\n",
              " Bateria                        41\n",
              " Dashboards com Power BI        40\n",
              " Faqueiro                       39\n",
              " Boneca bebê                    39\n",
              " Headset                        39\n",
              " Assistente virtual             39\n",
              " Copo térmico                   38\n",
              " Guitarra                       38\n",
              " Jogo de copos                  36\n",
              " Mochila                        36\n",
              " Micro-ondas                    36\n",
              " Blocos de montar               35\n",
              " Name: count, dtype: int64,\n",
              " 'loja4': Produto\n",
              " Cama box                       62\n",
              " Faqueiro                       59\n",
              " Dashboards com Power BI        56\n",
              " Cama king                      56\n",
              " Carrinho controle remoto       55\n",
              " Mesa de jantar                 55\n",
              " Cômoda                         55\n",
              " Smart TV                       54\n",
              " Blocos de montar               54\n",
              " Pandeiro                       52\n",
              " Impressora                     50\n",
              " Modelagem preditiva            50\n",
              " Assistente virtual             50\n",
              " Jogo de panelas                50\n",
              " Bola de basquete               50\n",
              " Copo térmico                   48\n",
              " Celular Plus X42               48\n",
              " Boneca bebê                    48\n",
              " Bateria                        48\n",
              " Bola de vôlei                  48\n",
              " Jogo de tabuleiro              48\n",
              " Micro-ondas                    48\n",
              " Fogão                          47\n",
              " Cubo mágico 8x8                47\n",
              " Sofá retrátil                  47\n",
              " Dinossauro Rex                 47\n",
              " Panela de pressão              46\n",
              " Jogo de copos                  46\n",
              " Tablet ABXY                    45\n",
              " Poltrona                       45\n",
              " Bicicleta                      45\n",
              " Mesa de centro                 44\n",
              " Fone de ouvido                 44\n",
              " Lava louças                    43\n",
              " Corda de pular                 43\n",
              " Iniciando em programação       43\n",
              " Mochila                        43\n",
              " Headset                        42\n",
              " Kit banquetas                  42\n",
              " TV Led UHD 4K                  40\n",
              " Secadora de roupas             40\n",
              " Cadeira de escritório          40\n",
              " Celular ABXY                   39\n",
              " Xadrez de madeira              39\n",
              " Smartwatch                     39\n",
              " Lavadora de roupas             38\n",
              " Geladeira                      38\n",
              " Ciência de dados com python    38\n",
              " Violão                         37\n",
              " Guarda roupas                  34\n",
              " Guitarra                       33\n",
              " Name: count, dtype: int64}"
            ]
          },
          "metadata": {},
          "execution_count": 9
        }
      ]
    },
    {
      "cell_type": "code",
      "source": [
        "for nome_loja, produtos_vendidos in Lojas_produtos_vendas.items():\n",
        "    # Encontrando o produto mais vendido,o idxmax() retorna o índice do maior valor no dataframe.\n",
        "    produto_mais_vendido = produtos_vendidos.idxmax()\n",
        "    # Encontrando o produto menos vendido\n",
        "    produto_menos_vendido = produtos_vendidos.idxmin()\n",
        "\n",
        "    print(f\"Na {nome_loja}:\")\n",
        "    print(f\"  - Produto mais vendido: {produto_mais_vendido} ({produtos_vendidos[produto_mais_vendido]} vendas)\")\n",
        "    print(f\"  - Produto menos vendido: {produto_menos_vendido} ({produtos_vendidos[produto_menos_vendido]} vendas)\")\n",
        "    print(\"\\n\")"
      ],
      "metadata": {
        "id": "0Sw3sd4IZIGW",
        "colab": {
          "base_uri": "https://localhost:8080/",
          "height": 0
        },
        "outputId": "bec1a855-cf37-4114-b2db-651998ebc123"
      },
      "execution_count": 22,
      "outputs": [
        {
          "output_type": "stream",
          "name": "stdout",
          "text": [
            "Na loja1:\n",
            "  - Produto mais vendido: Micro-ondas (60 vendas)\n",
            "  - Produto menos vendido: Headset (33 vendas)\n",
            "\n",
            "\n",
            "Na loja2:\n",
            "  - Produto mais vendido: Iniciando em programação (65 vendas)\n",
            "  - Produto menos vendido: Jogo de tabuleiro (32 vendas)\n",
            "\n",
            "\n",
            "Na loja3:\n",
            "  - Produto mais vendido: Kit banquetas (57 vendas)\n",
            "  - Produto menos vendido: Blocos de montar (35 vendas)\n",
            "\n",
            "\n",
            "Na loja4:\n",
            "  - Produto mais vendido: Cama box (62 vendas)\n",
            "  - Produto menos vendido: Guitarra (33 vendas)\n",
            "\n",
            "\n"
          ]
        }
      ]
    },
    {
      "cell_type": "markdown",
      "source": [
        "# 5. Frete Médio por Loja\n"
      ],
      "metadata": {
        "id": "Fl0cGi3bZKqU"
      }
    },
    {
      "cell_type": "code",
      "source": [
        "# Criando dicionário com frete médias\n",
        "Lojas_frete_medio = {\n",
        "    \"loja1\": loja['Frete'].mean(),\n",
        "    \"loja2\": loja2['Frete'].mean(),\n",
        "    \"loja3\": loja3['Frete'].mean(),\n",
        "    \"loja4\": loja4['Frete'].mean()\n",
        "}\n",
        "\n",
        "# Convertendo para DataFrame\n",
        "df_frete_medio = pd.DataFrame(Lojas_frete_medio.items(), columns=[\"Loja\", \"Frete Médio\"])\n",
        "\n",
        "# Ordenando do maior para o menor\n",
        "df_frete_medio = df_frete_medio.sort_values(by=\"Frete Médio\", ascending=False)\n",
        "\n",
        "# Exibindo a tabela\n",
        "print(df_frete_medio)\n"
      ],
      "metadata": {
        "id": "S2JeaCykZNy9",
        "colab": {
          "base_uri": "https://localhost:8080/",
          "height": 0
        },
        "outputId": "5d8cd55d-b74e-4299-bb61-d51c16694ee9"
      },
      "execution_count": 26,
      "outputs": [
        {
          "output_type": "stream",
          "name": "stdout",
          "text": [
            "    Loja  Frete Médio\n",
            "0  loja1    34.691805\n",
            "1  loja2    33.621941\n",
            "2  loja3    33.074464\n",
            "3  loja4    31.278997\n"
          ]
        }
      ]
    },
    {
      "cell_type": "markdown",
      "source": [
        "Loja1 possui o maior frete."
      ],
      "metadata": {
        "id": "tlPKam6HPPkH"
      }
    },
    {
      "cell_type": "code",
      "source": [
        "import matplotlib.pyplot as plt\n",
        "\n",
        "     # Criando o gráfico de linhas\n",
        "plt.figure(figsize=(8, 6))\n",
        "plt.plot(df_frete_medio[\"Loja\"], df_frete_medio[\"Frete Médio\"], marker='o', linestyle='-')\n",
        "plt.xlabel(\"Loja\")\n",
        "plt.ylabel(\"Frete Médio\")\n",
        "plt.title(\"Frete Médio por Loja\")\n",
        "plt.grid(True)  # Adicionando grid para melhor visualização\n",
        "plt.show()"
      ],
      "metadata": {
        "colab": {
          "base_uri": "https://localhost:8080/",
          "height": 565
        },
        "id": "AaFA8vARUPTO",
        "outputId": "d496de02-fdd8-4240-89c2-fed8bdb786c0"
      },
      "execution_count": 39,
      "outputs": [
        {
          "output_type": "display_data",
          "data": {
            "text/plain": [
              "<Figure size 800x600 with 1 Axes>"
            ],
            "image/png": "[encoded data removed]"
          },
          "metadata": {}
        }
      ]
    },
    {
      "cell_type": "markdown",
      "source": [
        "# RELATÒRIO\n",
        "\n",
        "Com base na análise dos indicadores, a Loja 4 apresenta resultados inferiores:\n",
        "\n",
        "* Faturamento: É o menor entre as lojas, sugerindo menor receita.\n",
        "\n",
        "* Vendas por Categoria: Mesmo tendo o mesmo ranking de categorias, os valores agregados são inferiores em comparação com os demais estabelecimentos.\n",
        "\n",
        "* Avaliações de Clientes: A média de avaliação da Loja 4 é menor que a das Lojas 2 e 3, o que pode indicar insatisfação do consumidor.\n",
        "\n",
        "* Desempenho dos Produtos: Apesar de seu produto mais vendido ter um bom número de vendas, o resultado geral reforça o baixo desempenho.\n",
        "\n",
        "* Frete Médio: O menor valor de frete é da Loja 4 tendo uma operação menos rentável.\n",
        "\n",
        "Dessa forma, recomenda-se que o Senhor Joãoa venda a Loja 4.\n",
        "\n"
      ],
      "metadata": {
        "id": "z9ZIFPqdWDR0"
      }
    }
  ]
}